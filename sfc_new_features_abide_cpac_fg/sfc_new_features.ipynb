{
 "cells": [
  {
   "cell_type": "markdown",
   "id": "969801cc",
   "metadata": {},
   "source": [
    "### This notebok is implemented for computing: \n",
    "\n",
    "#### 1) New features obtained from multiple linear regression and ComBat harmonization models, and normalization methods using static functional connectivity (sFC), computed from the ABIDE rs-FMRI preprocessed data, pipeline CPAC, no filter, no global, as dependent variables, and cc200 as the brain atlas. The new features are:\n",
    "\n",
    "1.1. sFC: static functional connectivity (sfc_feature,file: sfc_feature_file_cc200.pkl ),\n",
    "\n",
    "1.2. $\\Delta$ mlrA: mlr residual of sFC with age as independent variable (sfc_mlr_age_feature, file: sfc_mlr_age_feature_file_cc200.pkl),\n",
    "\n",
    "1.3. $\\Delta$ mlrA$_{FZ}$: mlr residual of the Fisher Z-transform of sFC(sFC$_{FZ}$) with age as independent variable (sfc_fz_mlr_age_feature, file: sfc_fz_mlr_age_feature_file_cc200.pkl),\n",
    "\n",
    "1.4. $\\Delta$ mlrF: mlr residual of sFC with FIQ as independent variable (sfc_mlr_FIQ_feature, file: sfc_mlr_FIQ_feature_file_cc200.pkl),\n",
    "\n",
    "1.5. $\\Delta$ mlrF$_{FZ}$:mlr residual of the Fisher Z-transform of sFC(sFC$_{FZ}$) with FIQ as independent variable (sfc_fz_mlr_FIQ_feature, file: sfc_fz_mlr_FIQ_feature_file_cc200.pkl),\n",
    "\n",
    "1.6. $\\Delta$ mlrM: mlr residual of sFC with MRI vendor as independent variable (sfc_mlr_MRI_feature, file: sfc_mlr_MRI_feature_file_cc200.pkl),\n",
    "\n",
    "1.7. $\\Delta$ mlrM$_{FZ}$:mlr residual of the Fisher Z-transform of sFC(sFC$_{FZ}$) with MRI as independent variable (sfc_fz_mlr_MRI_feature, file: sfc_fz_mlr_MRI_feature_file_cc200.pkl),\n",
    "\n",
    "1.8. $\\Delta$ mlrG: mlr residual of sFC with gender as independent variable (sfc_mlr_gender_feature, file: sfc_mlr_MRI_feature_file_cc200.pkl),\n",
    "\n",
    "1.9. $\\Delta$ mlrG$_{FZ}$:mlr residual of the Fisher Z-transform of sFC(sFC$_{FZ}$) with gender as independent variable (sfc_fz_mlr_gender_feature, file: sfc_fz_mlr_gender_feature_file_cc200.pkl),\n",
    "\n",
    "1.10. $\\Delta$ mlrAGM: mlr residual of sFC with age,gender and MRI vendor as independent variables (sfc_mlr_AGM_feature, file: sfc_mlr_AGM_feature_file_cc200.pkl),\n",
    "\n",
    "1.11. $\\Delta$ mlrAGM$_{FZ}$:mlr residual of the Fisher Z-transform of sFC(sFC$_{FZ}$) with age,gender and MRI vendor as independent variables (sfc_fz_mlr_AGM_feature, file: sfc_fz_mlr_AGM_feature_file_cc200.pkl),\n",
    "\n",
    "1.12. cbA: ComBat harmonization of SFC with age as independent variable (sfc_combat_age_feature, file: sfc_combat_age_feature_file_cc200.pkl),\n",
    "\n",
    "1.13. cbA$_{FZ}$: ComBat harmonization of the Fisher Z-transform of sFC(sFC$_{FZ}$) with age as independent variable (sfc_fz_combat_age_feature, file: sfc_fz_combat_age_feature_file_cc200.pkl),\n",
    "\n",
    "1.14. cbF: ComBat harmonization of SFC with FIQ as independent variable (sfc_combat_FIQ_feature, file: sfc_combat_age_feature_file_cc200.pkl),\n",
    "\n",
    "1.15. cbF$_{FZ}$: ComBat harmonization of the Fisher Z-transform of sFC(sFC$_{FZ}$) with FIQ as independent variable (sfc_fz_combat_FIQ_feature, file: sfc_fz_combat_FIQ_feature_file_cc200.pkl),\n",
    "\n",
    "1.16. cbAFG: ComBat harmonization of SFC with age, FIQ and gender as independent variables (sfc_combat_AFG_feature, file: sfc_combat_AFG_feature_file_cc200.pkl),\n",
    "\n",
    "1.17. cbAFG$_{FZ}$: ComBat harmonization of the Fisher Z-transform of sFC(sFC$_{FZ}$) with age, FIQ and gender as independent variables (sfc_fz_combat_AFG_feature, file: sfc_fz_combat_AFG_feature_file_cc200.pkl),\n",
    "\n",
    "1.18. $\\Delta$ avg: demeaning of the  sFC with the average of sFC over all ABIDE subjects (sfc_res_avg_feature, file: sfc_res_avg_feature_file_cc200.pkl),\n",
    "\n",
    "1.19. $\\Delta$ avgSite: demeaning of the sFC on a given site  with the average of sFC over all ABIDE subjects for the given site (sfc_res_avg_site_feature, file: sfc_res_avg_site_feature_file_cc200.pkl),\n",
    "\n",
    "1.20. $\\Delta$ avgSubj: demeaning of the sFC with the average of sFC computed for each ABIDE subject  (sfc_res_avg_subj_feature, file: sfc_res_avg_subj_feature_file_cc200.pkl).\n",
    "\n",
    "#### 2) Eigenvalues and eigenvectors computed for the static functional connectivity matrix and for the matrices corresponding to the new features derived from the static functional connectivity values\n",
    "\n",
    "#### 3)List of dictionaries with static functional connectivity (sFC) and Fisher Z-transform of SFC values and phenotypic and MRI scanner data.\n",
    "\n",
    "### Classes implemented in the module sfcfeatures.py:\n",
    "\n",
    "1. MultiSiteData\n",
    "\n",
    "2. StaticFunctionalConnectivity a subclass of the class MultiSiteData\n",
    "\n",
    "3. Eigenvectors a subclass of the class MultiSiteData\n",
    "\n",
    "4. Dictionaries a subclass of the class MultiSiteData\n",
    "\n",
    "5. MultipleLinearRegrResiduals \n",
    "\n",
    "6. MultipleLinearRegrFeatures a subclass of the class MultiSiteData\n",
    "\n",
    "7. CombatHarmonization\n",
    "\n",
    "8. CombatHarmonizationFeatures a subclass of the class MultiSiteData\n",
    "\n",
    "9. NormalizationMethodsFeatures a subclass of the class MultiSiteData \n",
    "\n",
    "Repository: https://github.com/pcdslab/ASD-DiagNet-Confounds"
   ]
  },
  {
   "cell_type": "code",
   "execution_count": null,
   "id": "330cd8de",
   "metadata": {},
   "outputs": [],
   "source": [
    "# Possibility to stop warnings\n",
    "import warnings\n",
    "warnings.filterwarnings('ignore') "
   ]
  },
  {
   "cell_type": "code",
   "execution_count": null,
   "id": "7bdbb075",
   "metadata": {},
   "outputs": [],
   "source": [
    "# Basic data manipulation and visualisation libraries\n",
    "import numpy as np\n",
    "import numpy.ma as ma # for masked arrays\n",
    "import pandas as pd\n",
    "import glob\n",
    "import shutil \n",
    "import os\n",
    "import pickle\n",
    "from sfcfeatures import MultiSiteData as MSD\n",
    "from sfcfeatures import StaticFunctionalConnectivity as SFC\n",
    "from sfcfeatures import Dictionaries as D\n",
    "from sfcfeatures import MultipleLinearRegrResiduals as MLRR\n",
    "from sfcfeatures import MultipleLinearRegrFeatures as MLRF\n",
    "from sfcfeatures import CombatHarmonization as CBH\n",
    "from sfcfeatures import CombatHarmonizationFeatures as CBF\n",
    "from sfcfeatures import NormalizationMethodsFeatures as NMF\n",
    "from sfcfeatures import Eigenvectors as EV"
   ]
  },
  {
   "cell_type": "code",
   "execution_count": null,
   "id": "0e1278bb",
   "metadata": {},
   "outputs": [],
   "source": [
    "#options for brain parcellation: cc200, cc400, dosenbach160, aal, ez, ho, tt\n",
    "p_ROI = 'cc200'"
   ]
  },
  {
   "cell_type": "code",
   "execution_count": null,
   "id": "42497083",
   "metadata": {},
   "outputs": [],
   "source": [
    "# data_files_path: path to ABIDE data, input_data_path: path to features data,\n",
    "# data_phenotypic_path: path to phenotypic file\n",
    "# Please update your data_path\n",
    "data_path = '~/documents/abide_fmri_preprocessed/'\n",
    "data_phenotypic_path = data_path+'Phenotypic_V1_0b_preprocessed1.csv'\n",
    "data_files_path = data_path+ 'rois_'+p_ROI+'/'\n",
    "input_data_path = data_path+ 'rois_'+p_ROI+'_input/'\n",
    "print('data_phenotypic_path ',data_phenotypic_path)\n",
    "print('data_files_path', data_files_path)\n",
    "print('input_data_path', input_data_path)"
   ]
  },
  {
   "cell_type": "markdown",
   "id": "9f2f6829",
   "metadata": {},
   "source": [
    "### importing the data and computing subjects id and phenotypic data with the MultiSiteData class"
   ]
  },
  {
   "cell_type": "code",
   "execution_count": null,
   "id": "12b436cb",
   "metadata": {},
   "outputs": [],
   "source": [
    "msd = MSD(data_phenotypic_path,data_files_path)"
   ]
  },
  {
   "cell_type": "code",
   "execution_count": null,
   "id": "9850533f",
   "metadata": {},
   "outputs": [],
   "source": [
    "msd.get_multisite_file_list()\n",
    "file_list = msd.files\n",
    "msd.get_subjects_id()\n",
    "subjects_id = msd.subjects_id\n",
    "msd.get_phenotypic_data()\n",
    "labels = msd.labels\n",
    "gender = msd.gender\n",
    "age = msd.age\n",
    "eyes = msd.eyes\n",
    "medicated = msd.medicated\n",
    "FIQ = msd.FIQ\n",
    "handedness = msd.handedness"
   ]
  },
  {
   "cell_type": "markdown",
   "id": "ae7323bd",
   "metadata": {},
   "source": [
    "### Computing static functonal conectivity  with the StaticFunctionalConnectivity class"
   ]
  },
  {
   "cell_type": "code",
   "execution_count": null,
   "id": "c1517ec5",
   "metadata": {},
   "outputs": [],
   "source": [
    "sfc = SFC(data_phenotypic_path,data_files_path,input_data_path,p_ROI)"
   ]
  },
  {
   "cell_type": "code",
   "execution_count": null,
   "id": "978004b4",
   "metadata": {},
   "outputs": [],
   "source": [
    "save_file = True\n",
    "sfc.get_sfc_multisubject(save_file)"
   ]
  },
  {
   "cell_type": "markdown",
   "id": "fc2f42f7",
   "metadata": {},
   "source": [
    "### Compute the Fishers Z-score transform of the static functional connectivity (sFC) with the  NormalizationMethodsFeatures class"
   ]
  },
  {
   "cell_type": "code",
   "execution_count": null,
   "id": "6c8869f3",
   "metadata": {},
   "outputs": [],
   "source": [
    "if p_ROI == 'cc200':\n",
    "    number_features = 19900\n",
    "nmf = NMF(data_phenotypic_path,data_files_path,input_data_path,p_ROI,number_features) "
   ]
  },
  {
   "cell_type": "code",
   "execution_count": null,
   "id": "0fa7d4c6",
   "metadata": {},
   "outputs": [],
   "source": [
    "save_file = False\n",
    "nmf.get_sfc_fz(save_file)"
   ]
  },
  {
   "cell_type": "markdown",
   "id": "4d8bc495",
   "metadata": {},
   "source": [
    "### Compute dictionaries  with the Dictionaries class"
   ]
  },
  {
   "cell_type": "code",
   "execution_count": null,
   "id": "cc3da9ba",
   "metadata": {},
   "outputs": [],
   "source": [
    "if p_ROI == 'cc200':\n",
    "    number_features = 19900\n",
    "d = D(data_phenotypic_path,data_files_path,input_data_path,p_ROI,number_features)"
   ]
  },
  {
   "cell_type": "code",
   "execution_count": null,
   "id": "86e42d27",
   "metadata": {},
   "outputs": [],
   "source": [
    "save_file = True\n",
    "d.get_list_dict(save_file)"
   ]
  },
  {
   "cell_type": "markdown",
   "id": "a63c36cc",
   "metadata": {},
   "source": [
    "### Compute mlr residual values with the MultipleLinearRegrResiduals class "
   ]
  },
  {
   "cell_type": "code",
   "execution_count": null,
   "id": "1046a6d3",
   "metadata": {},
   "outputs": [],
   "source": [
    "if p_ROI == 'cc200':\n",
    "    number_features = 19900\n",
    "mlrr = MLRR(input_data_path,p_ROI,number_features)"
   ]
  },
  {
   "cell_type": "code",
   "execution_count": null,
   "id": "37ec0ad5",
   "metadata": {},
   "outputs": [],
   "source": [
    "save_file = True\n",
    "mlrr.get_mlr_residuals(save_file)"
   ]
  },
  {
   "cell_type": "markdown",
   "id": "20231949",
   "metadata": {},
   "source": [
    "### Compute mlr  features  with the MultipleLinearRegrFeatures  class"
   ]
  },
  {
   "cell_type": "code",
   "execution_count": null,
   "id": "9b1a8a05",
   "metadata": {},
   "outputs": [],
   "source": [
    "variables =['age','FIQ','gender','MRI','AGM']"
   ]
  },
  {
   "cell_type": "code",
   "execution_count": null,
   "id": "83a2cd7d",
   "metadata": {},
   "outputs": [],
   "source": [
    "save_file = True\n",
    "for var in variables:\n",
    "    mlrf = MLRF(data_phenotypic_path,data_files_path,input_data_path,p_ROI,var)\n",
    "    mlrf.get_mlr_features(save_file) \n",
    "    print ('###############################')"
   ]
  },
  {
   "cell_type": "markdown",
   "id": "0f132ceb",
   "metadata": {},
   "source": [
    "### Compute Combat harmonization models of sFC and sFC_FZ with the CombatHarmonization class"
   ]
  },
  {
   "cell_type": "code",
   "execution_count": null,
   "id": "997c98d5",
   "metadata": {},
   "outputs": [],
   "source": [
    "cbh = CBH(input_data_path,p_ROI)"
   ]
  },
  {
   "cell_type": "code",
   "execution_count": null,
   "id": "812114fd",
   "metadata": {},
   "outputs": [],
   "source": [
    "save_file = True\n",
    "cbh.get_combat_harm(save_file)"
   ]
  },
  {
   "cell_type": "markdown",
   "id": "d9d2594d",
   "metadata": {},
   "source": [
    "### Compute Combat harmonization features for  sFC and sFC_FZ with the CombatHarmonizationFeatures class"
   ]
  },
  {
   "cell_type": "code",
   "execution_count": null,
   "id": "202ea4f3",
   "metadata": {},
   "outputs": [],
   "source": [
    "variables =['age','FIQ','AFG']\n",
    "save_file = True\n",
    "for var in variables:\n",
    "    print ('variable ',var)\n",
    "    cbf = CBF(data_phenotypic_path,data_files_path,input_data_path,p_ROI,var)\n",
    "    cbf.get_combat_features(save_file)\n",
    "    print ('###############################')                 "
   ]
  },
  {
   "cell_type": "markdown",
   "id": "b85e47e1",
   "metadata": {},
   "source": [
    "### Compute  static functional connectivity residual avg = delta_avg with the NormalizationMethodsFeatures class¶"
   ]
  },
  {
   "cell_type": "code",
   "execution_count": null,
   "id": "d692b6ca",
   "metadata": {},
   "outputs": [],
   "source": [
    "save_file = True\n",
    "nmf.get_residual_avg(save_file)"
   ]
  },
  {
   "cell_type": "markdown",
   "id": "8f11cf26",
   "metadata": {},
   "source": [
    "### Compute  static functional connectivity residual per site = delta_avg_site with the NormalizationMethodsFeatures class¶"
   ]
  },
  {
   "cell_type": "code",
   "execution_count": null,
   "id": "660bc227",
   "metadata": {},
   "outputs": [],
   "source": [
    "save_file = True\n",
    "nmf.get_residual_avg_site(save_file)"
   ]
  },
  {
   "cell_type": "markdown",
   "id": "36e21d54",
   "metadata": {},
   "source": [
    "### Compute  static functional connectivity residual per subject = delta_avg_subj with the NormalizationMethodsFeatures class¶"
   ]
  },
  {
   "cell_type": "code",
   "execution_count": null,
   "id": "b2909b22",
   "metadata": {},
   "outputs": [],
   "source": [
    "save_file = True\n",
    "nmf.get_residual_avg_subj(save_file)"
   ]
  },
  {
   "cell_type": "markdown",
   "id": "ebba9d28",
   "metadata": {},
   "source": [
    "### Computing the eigenvectors and eigenvaluesfor the the static functional connectivity matrix and for the new features derived from the static functional connectivity values with the Eigenvectors class"
   ]
  },
  {
   "cell_type": "code",
   "execution_count": null,
   "id": "2645981b",
   "metadata": {},
   "outputs": [],
   "source": [
    "feature_list =['sfc_feature','sfc_mlr_age_feature','sfc_fz_mlr_age_feature','sfc_mlr_FIQ_feature',\n",
    "           'sfc_fz_mlr_FIQ_feature','sfc_mlr_MRI_feature','sfc_fz_mlr_MRI_feature',\n",
    "          'sfc_mlr_gender_feature','sfc_fz_mlr_gender_feature','sfc_mlr_AGM_feature',\n",
    "          'sfc_fz_mlr_AGM_feature','sfc_combat_age_feature','sfc_fz_combat_age_feature',\n",
    "          'sfc_combat_FIQ_feature','sfc_fz_combat_FIQ_feature','sfc_combat_AFG_feature',\n",
    "          'sfc_fz_combat_AFG_feature','sfc_res_avg_feature','sfc_res_avg_site_feature',\n",
    "          'sfc_res_avg_subj_feature']\n",
    "print(len(feature_list))\n",
    "print(feature_list[2])"
   ]
  },
  {
   "cell_type": "code",
   "execution_count": null,
   "id": "a0a48450",
   "metadata": {},
   "outputs": [],
   "source": [
    "save_file = True\n",
    "for feature in feature_list:\n",
    "    ev = EV(data_phenotypic_path,data_files_path,input_data_path,p_ROI,feature)    \n",
    "    ev.get_eigenvectors(save_file)\n",
    "    print ('###############################') "
   ]
  },
  {
   "cell_type": "code",
   "execution_count": null,
   "id": "402df0e9",
   "metadata": {},
   "outputs": [],
   "source": []
  }
 ],
 "metadata": {
  "kernelspec": {
   "display_name": "Python 3 (ipykernel)",
   "language": "python",
   "name": "python3"
  },
  "language_info": {
   "codemirror_mode": {
    "name": "ipython",
    "version": 3
   },
   "file_extension": ".py",
   "mimetype": "text/x-python",
   "name": "python",
   "nbconvert_exporter": "python",
   "pygments_lexer": "ipython3",
   "version": "3.9.17"
  }
 },
 "nbformat": 4,
 "nbformat_minor": 5
}
